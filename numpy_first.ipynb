{
 "cells": [
  {
   "cell_type": "code",
   "execution_count": 2,
   "metadata": {
    "collapsed": false
   },
   "outputs": [
    {
     "name": "stdout",
     "output_type": "stream",
     "text": [
      "[26, 72, 30, 7, 81]\n",
      "[26 72 30  7 81]\n",
      "int64\n"
     ]
    }
   ],
   "source": [
    "import numpy as np\n",
    "from random import randint\n",
    "scores = [randint(0,100) for i in range(5)]\n",
    "first_arr =np.array(scores)\n",
    "print scores\n",
    "print first_arr\n",
    "print first_arr.dtype  # .dtype return the data type of the array object"
   ]
  },
  {
   "cell_type": "code",
   "execution_count": 5,
   "metadata": {
    "collapsed": false
   },
   "outputs": [
    {
     "name": "stdout",
     "output_type": "stream",
     "text": [
      "[[34 56 23 89]\n",
      " [11 45 76 34]]\n",
      "2\n",
      "(2, 4)\n",
      "int64\n"
     ]
    }
   ],
   "source": [
    "scores_1 = [[34,56,23,89], [11,45,76,34]]\n",
    "second_arr = np.array(scores_1)\n",
    "print second_arr\n",
    "print second_arr.ndim\n",
    "print second_arr.shape\n",
    "print second_arr.dtype "
   ]
  },
  {
   "cell_type": "code",
   "execution_count": 7,
   "metadata": {
    "collapsed": false
   },
   "outputs": [
    {
     "name": "stdout",
     "output_type": "stream",
     "text": [
      "[ 0.  0.  0.  0.  0.  0.  0.  0.  0.  0.]\n"
     ]
    }
   ],
   "source": [
    "x = np.zeros(10)\n",
    "print x"
   ]
  },
  {
   "cell_type": "code",
   "execution_count": 8,
   "metadata": {
    "collapsed": false
   },
   "outputs": [
    {
     "data": {
      "text/plain": [
       "array([[ 0.,  0.,  0.],\n",
       "       [ 0.,  0.,  0.],\n",
       "       [ 0.,  0.,  0.],\n",
       "       [ 0.,  0.,  0.]])"
      ]
     },
     "execution_count": 8,
     "metadata": {},
     "output_type": "execute_result"
    }
   ],
   "source": [
    "np.zeros((4,3))"
   ]
  },
  {
   "cell_type": "code",
   "execution_count": 9,
   "metadata": {
    "collapsed": false
   },
   "outputs": [
    {
     "data": {
      "text/plain": [
       "array([ 0,  1,  2,  3,  4,  5,  6,  7,  8,  9, 10, 11, 12, 13, 14])"
      ]
     },
     "execution_count": 9,
     "metadata": {},
     "output_type": "execute_result"
    }
   ],
   "source": [
    "np.arange(15)"
   ]
  },
  {
   "cell_type": "code",
   "execution_count": 10,
   "metadata": {
    "collapsed": false
   },
   "outputs": [
    {
     "data": {
      "text/plain": [
       "array([[ 1.,  0.,  0.,  0.,  0.,  0.],\n",
       "       [ 0.,  1.,  0.,  0.,  0.,  0.],\n",
       "       [ 0.,  0.,  1.,  0.,  0.,  0.],\n",
       "       [ 0.,  0.,  0.,  1.,  0.,  0.],\n",
       "       [ 0.,  0.,  0.,  0.,  1.,  0.],\n",
       "       [ 0.,  0.,  0.,  0.,  0.,  1.]])"
      ]
     },
     "execution_count": 10,
     "metadata": {},
     "output_type": "execute_result"
    }
   ],
   "source": [
    "np.eye(6)"
   ]
  },
  {
   "cell_type": "code",
   "execution_count": 11,
   "metadata": {
    "collapsed": false
   },
   "outputs": [
    {
     "name": "stdout",
     "output_type": "stream",
     "text": [
      "[ 89.    56.34  76.    89.    98.  ]\n",
      "[ 7921.      3174.1956  5776.      7921.      9604.    ]\n",
      "[ 0.  0.  0.  0.  0.]\n",
      "[ 0.01123596  0.01774938  0.01315789  0.01123596  0.01020408]\n",
      "[ 9.43398113  7.5059976   8.71779789  9.43398113  9.89949494]\n"
     ]
    }
   ],
   "source": [
    "scores = [89,56.34, 76,89, 98]\n",
    "first_arr =np.array(scores)\n",
    "print first_arr\n",
    "print first_arr * first_arr\n",
    "print first_arr - first_arr\n",
    "print 1/(first_arr)\n",
    "print first_arr ** 0.5"
   ]
  },
  {
   "cell_type": "code",
   "execution_count": 12,
   "metadata": {
    "collapsed": false
   },
   "outputs": [
    {
     "name": "stdout",
     "output_type": "stream",
     "text": [
      "[ 0  1  2  3  4  5  6  7  8  9 10 11]\n",
      "5\n",
      "[4 5 6 7 8]\n",
      "[ 0  1  2  3 99 99 99 99 99  9 10 11]\n"
     ]
    }
   ],
   "source": [
    "new_arr = np.arange(12)\n",
    "print new_arr\n",
    "print new_arr[5]\n",
    "print new_arr[4:9]\n",
    "new_arr[4:9] = 99 #assign sequence of values from 4 to 9 as 99\n",
    "print new_arr"
   ]
  },
  {
   "cell_type": "code",
   "execution_count": 13,
   "metadata": {
    "collapsed": false
   },
   "outputs": [
    {
     "name": "stdout",
     "output_type": "stream",
     "text": [
      "[     0      1      2      3     99 123456     99     99     99      9\n",
      "     10     11]\n"
     ]
    },
    {
     "data": {
      "text/plain": [
       "array([    99, 123456,     99,     99,     99])"
      ]
     },
     "execution_count": 13,
     "metadata": {},
     "output_type": "execute_result"
    }
   ],
   "source": [
    "modi_arr = new_arr[4:9] \n",
    "modi_arr[1] = 123456\n",
    "print new_arr                  # you can see the changes are refelected in main array. \n",
    "modi_arr[:]"
   ]
  },
  {
   "cell_type": "code",
   "execution_count": 15,
   "metadata": {
    "collapsed": false
   },
   "outputs": [
    {
     "name": "stdout",
     "output_type": "stream",
     "text": [
      "[[3 4 5]\n",
      " [6 7 8]\n",
      " [9 5 1]]\n",
      "[6 7 8]\n",
      "5\n",
      "5\n"
     ]
    },
    {
     "ename": "ValueError",
     "evalue": "No image data found. Expecting filename, url, or data.",
     "output_type": "error",
     "traceback": [
      "\u001b[0;31m---------------------------------------------------------------------------\u001b[0m",
      "\u001b[0;31mValueError\u001b[0m                                Traceback (most recent call last)",
      "\u001b[0;32m<ipython-input-15-d408ecd3a1ed>\u001b[0m in \u001b[0;36m<module>\u001b[0;34m()\u001b[0m\n\u001b[1;32m      5\u001b[0m \u001b[0;32mprint\u001b[0m \u001b[0mmatrix_arr\u001b[0m\u001b[0;34m[\u001b[0m\u001b[0;36m0\u001b[0m\u001b[0;34m,\u001b[0m\u001b[0;36m2\u001b[0m\u001b[0;34m]\u001b[0m \u001b[0;31m# This is same as the above operation\u001b[0m\u001b[0;34m\u001b[0m\u001b[0m\n\u001b[1;32m      6\u001b[0m \u001b[0;32mfrom\u001b[0m \u001b[0mIPython\u001b[0m\u001b[0;34m.\u001b[0m\u001b[0mdisplay\u001b[0m \u001b[0;32mimport\u001b[0m \u001b[0mImage\u001b[0m  \u001b[0;31m# importing a image from my computer.\u001b[0m\u001b[0;34m\u001b[0m\u001b[0m\n\u001b[0;32m----> 7\u001b[0;31m \u001b[0mi\u001b[0m \u001b[0;34m=\u001b[0m \u001b[0mImage\u001b[0m\u001b[0;34m(\u001b[0m\u001b[0;34m)\u001b[0m\u001b[0;34m\u001b[0m\u001b[0m\n\u001b[0m\u001b[1;32m      8\u001b[0m \u001b[0mi\u001b[0m \u001b[0;31m# Blue print of a matrix\u001b[0m\u001b[0;34m\u001b[0m\u001b[0m\n",
      "\u001b[0;32m/home/whq/.pyenv/versions/2.7.13/lib/python2.7/site-packages/IPython/core/display.pyc\u001b[0m in \u001b[0;36m__init__\u001b[0;34m(self, data, url, filename, format, embed, width, height, retina, unconfined, metadata)\u001b[0m\n\u001b[1;32m    715\u001b[0m             \u001b[0mext\u001b[0m \u001b[0;34m=\u001b[0m \u001b[0mself\u001b[0m\u001b[0;34m.\u001b[0m\u001b[0m_find_ext\u001b[0m\u001b[0;34m(\u001b[0m\u001b[0murl\u001b[0m\u001b[0;34m)\u001b[0m\u001b[0;34m\u001b[0m\u001b[0m\n\u001b[1;32m    716\u001b[0m         \u001b[0;32melif\u001b[0m \u001b[0mdata\u001b[0m \u001b[0;32mis\u001b[0m \u001b[0mNone\u001b[0m\u001b[0;34m:\u001b[0m\u001b[0;34m\u001b[0m\u001b[0m\n\u001b[0;32m--> 717\u001b[0;31m             \u001b[0;32mraise\u001b[0m \u001b[0mValueError\u001b[0m\u001b[0;34m(\u001b[0m\u001b[0;34m\"No image data found. Expecting filename, url, or data.\"\u001b[0m\u001b[0;34m)\u001b[0m\u001b[0;34m\u001b[0m\u001b[0m\n\u001b[0m\u001b[1;32m    718\u001b[0m         elif isinstance(data, string_types) and (\n\u001b[1;32m    719\u001b[0m             \u001b[0mdata\u001b[0m\u001b[0;34m.\u001b[0m\u001b[0mstartswith\u001b[0m\u001b[0;34m(\u001b[0m\u001b[0;34m'http'\u001b[0m\u001b[0;34m)\u001b[0m \u001b[0;32mor\u001b[0m \u001b[0m_safe_exists\u001b[0m\u001b[0;34m(\u001b[0m\u001b[0mdata\u001b[0m\u001b[0;34m)\u001b[0m\u001b[0;34m\u001b[0m\u001b[0m\n",
      "\u001b[0;31mValueError\u001b[0m: No image data found. Expecting filename, url, or data."
     ]
    }
   ],
   "source": [
    "matrix_arr =np.array([[3,4,5],[6,7,8],[9,5,1]])\n",
    "print matrix_arr\n",
    "print matrix_arr[1]\n",
    "print matrix_arr[0][2] #first row and third column\n",
    "print matrix_arr[0,2] # This is same as the above operation"
   ]
  },
  {
   "cell_type": "code",
   "execution_count": 16,
   "metadata": {
    "collapsed": false
   },
   "outputs": [
    {
     "name": "stdout",
     "output_type": "stream",
     "text": [
      "[[[ 1  2  3]\n",
      "  [ 4  5  6]]\n",
      "\n",
      " [[ 7  8  9]\n",
      "  [10 11 12]]]\n",
      "returns the second list inside first list [4 5 6]\n"
     ]
    }
   ],
   "source": [
    "three_d_arr = np.array([[[1, 2, 3], [4, 5, 6]], [[7, 8, 9], [10, 11, 12]]])\n",
    "print three_d_arr\n",
    "print \"returns the second list inside first list {}\".format(three_d_arr[0,1])"
   ]
  },
  {
   "cell_type": "code",
   "execution_count": 17,
   "metadata": {
    "collapsed": false
   },
   "outputs": [
    {
     "name": "stdout",
     "output_type": "stream",
     "text": [
      "[[1 2 3]\n",
      " [4 5 6]]\n"
     ]
    }
   ],
   "source": [
    "three_d_arr = np.array([[[1, 2, 3], [4, 5, 6]], [[7, 8, 9], [10, 11, 12]]])\n",
    "print three_d_arr[0]"
   ]
  },
  {
   "cell_type": "code",
   "execution_count": 18,
   "metadata": {
    "collapsed": false
   },
   "outputs": [
    {
     "name": "stdout",
     "output_type": "stream",
     "text": [
      "New value of three_d_arr: [[[99 99 99]\n",
      "  [99 99 99]]\n",
      "\n",
      " [[ 7  8  9]\n",
      "  [10 11 12]]]\n",
      " three_d_arr again: [[[ 1  2  3]\n",
      "  [ 4  5  6]]\n",
      "\n",
      " [[ 7  8  9]\n",
      "  [10 11 12]]]\n"
     ]
    }
   ],
   "source": [
    "copied_values = three_d_arr[0].copy() # copy arr[0] value to copied_values\n",
    "three_d_arr[0]= 99  # change all values of arr[0] to 99 \n",
    "print \"New value of three_d_arr: {}\".format(three_d_arr)  # check the new value of three_d_arr \n",
    "three_d_arr[0] = copied_values # assign copied values back to three_d_arr[0]\n",
    "print\" three_d_arr again: {}\".format(three_d_arr)"
   ]
  },
  {
   "cell_type": "code",
   "execution_count": 19,
   "metadata": {
    "collapsed": false
   },
   "outputs": [
    {
     "name": "stdout",
     "output_type": "stream",
     "text": [
      "The original matrix [[3 4 5]\n",
      " [6 7 8]\n",
      " [9 5 1]]:\n",
      "slices the first two rows:[[3 4 5]\n",
      " [6 7 8]]\n",
      "Slices the first two rows and two columns:[[4 5]\n",
      " [7 8]]\n",
      "returns 6 and 7: [6 7]\n",
      "Returns first column: [[3]\n",
      " [6]\n",
      " [9]]\n"
     ]
    }
   ],
   "source": [
    "matrix_arr =np.array([[3,4,5],[6,7,8],[9,5,1]])\n",
    "print \"The original matrix {}:\".format(matrix_arr)\n",
    "print \"slices the first two rows:{}\".format(matrix_arr[:2]) # similar to list slicing. returns first two rows of the array\n",
    "print \"Slices the first two rows and two columns:{}\".format(matrix_arr[:2, 1:])\n",
    "print \"returns 6 and 7: {}\".format(matrix_arr[1,:2])\n",
    "print \"Returns first column: {}\".format(matrix_arr[:,:1]) #Note that a colon by itself means to take the entire axis"
   ]
  },
  {
   "cell_type": "code",
   "execution_count": 20,
   "metadata": {
    "collapsed": false
   },
   "outputs": [
    {
     "name": "stdout",
     "output_type": "stream",
     "text": [
      "[ True False False  True False False False]\n"
     ]
    }
   ],
   "source": [
    "personals = np.array(['Manu', 'Jeevan', 'Prakash', 'Manu', 'Prakash', 'Jeevan', 'Prakash'])\n",
    "print personals == 'Manu' #checks for the string 'Manu' in personals. If present it returns true; else false#"
   ]
  },
  {
   "cell_type": "code",
   "execution_count": 21,
   "metadata": {
    "collapsed": false
   },
   "outputs": [
    {
     "name": "stdout",
     "output_type": "stream",
     "text": [
      "[[ 1.81490763  0.22377714 -0.06723058  0.00584783]\n",
      " [-0.69691577 -0.0971665  -0.82536606 -0.79063476]\n",
      " [-0.98968924 -1.62967724  0.69587662  0.01335364]\n",
      " [ 0.44401008  0.53047378  0.41794642  0.38001362]\n",
      " [ 1.97729371 -0.98068434 -0.35799936  0.04074912]\n",
      " [-0.4008847  -0.45061313  0.29929041 -0.8118593 ]\n",
      " [ 0.70779163 -1.20457246  0.3741927   0.68185082]]\n"
     ]
    },
    {
     "data": {
      "text/plain": [
       "array([[ 1.81490763,  0.22377714, -0.06723058,  0.00584783],\n",
       "       [ 0.44401008,  0.53047378,  0.41794642,  0.38001362]])"
      ]
     },
     "execution_count": 21,
     "metadata": {},
     "output_type": "execute_result"
    }
   ],
   "source": [
    "from numpy import random \n",
    "random_no = random.randn(7,4)\n",
    "print random_no\n",
    "random_no[personals =='Manu'] #The function returns the rows for which the value of manu is true"
   ]
  },
  {
   "cell_type": "code",
   "execution_count": 22,
   "metadata": {
    "collapsed": false
   },
   "outputs": [
    {
     "name": "stdout",
     "output_type": "stream",
     "text": [
      "[False  True  True False  True  True  True]\n"
     ]
    }
   ],
   "source": [
    "print personals != 'Manu'\n"
   ]
  },
  {
   "cell_type": "code",
   "execution_count": 24,
   "metadata": {
    "collapsed": false
   },
   "outputs": [
    {
     "data": {
      "text/plain": [
       "array([[-0.69691577, -0.0971665 , -0.82536606, -0.79063476],\n",
       "       [-0.98968924, -1.62967724,  0.69587662,  0.01335364],\n",
       "       [ 1.97729371, -0.98068434, -0.35799936,  0.04074912],\n",
       "       [-0.4008847 , -0.45061313,  0.29929041, -0.8118593 ],\n",
       "       [ 0.70779163, -1.20457246,  0.3741927 ,  0.68185082]])"
      ]
     },
     "execution_count": 24,
     "metadata": {},
     "output_type": "execute_result"
    }
   ],
   "source": [
    "random_no[~(personals == 'Manu')] #get everything except 1st and 4th rows"
   ]
  },
  {
   "cell_type": "code",
   "execution_count": 25,
   "metadata": {
    "collapsed": false
   },
   "outputs": [
    {
     "name": "stdout",
     "output_type": "stream",
     "text": [
      "[ True  True False  True False  True False]\n"
     ]
    },
    {
     "data": {
      "text/plain": [
       "array([[ 1.81490763,  0.22377714, -0.06723058,  0.00584783],\n",
       "       [-0.69691577, -0.0971665 , -0.82536606, -0.79063476],\n",
       "       [ 0.44401008,  0.53047378,  0.41794642,  0.38001362],\n",
       "       [-0.4008847 , -0.45061313,  0.29929041, -0.8118593 ]])"
      ]
     },
     "execution_count": 25,
     "metadata": {},
     "output_type": "execute_result"
    }
   ],
   "source": [
    "new_variable = (personals == 'Manu') | (personals == 'Jeevan')\n",
    "print new_variable\n",
    "random_no[new_variable] "
   ]
  },
  {
   "cell_type": "code",
   "execution_count": 27,
   "metadata": {
    "collapsed": false
   },
   "outputs": [
    {
     "name": "stdout",
     "output_type": "stream",
     "text": [
      "[[ 1.81490763  0.22377714  0.          0.00584783]\n",
      " [ 0.          0.          0.          0.        ]\n",
      " [ 0.          0.          0.69587662  0.01335364]\n",
      " [ 0.44401008  0.53047378  0.41794642  0.38001362]\n",
      " [ 1.97729371  0.          0.          0.04074912]\n",
      " [ 0.          0.          0.29929041  0.        ]\n",
      " [ 0.70779163  0.          0.3741927   0.68185082]]\n"
     ]
    }
   ],
   "source": [
    "random_no[random_no < 0] =0 \n",
    "print random_no"
   ]
  },
  {
   "cell_type": "code",
   "execution_count": 30,
   "metadata": {
    "collapsed": false
   },
   "outputs": [
    {
     "name": "stdout",
     "output_type": "stream",
     "text": [
      "[[  1.81490763e+00   2.23777138e-01   0.00000000e+00   5.84782845e-03]\n",
      " [  9.00000000e+00   9.00000000e+00   9.00000000e+00   9.00000000e+00]\n",
      " [  9.00000000e+00   9.00000000e+00   9.00000000e+00   9.00000000e+00]\n",
      " [  4.44010083e-01   5.30473779e-01   4.17946423e-01   3.80013622e-01]\n",
      " [  9.00000000e+00   9.00000000e+00   9.00000000e+00   9.00000000e+00]\n",
      " [  9.00000000e+00   9.00000000e+00   9.00000000e+00   9.00000000e+00]\n",
      " [  9.00000000e+00   9.00000000e+00   9.00000000e+00   9.00000000e+00]]\n"
     ]
    }
   ],
   "source": [
    "random_no[ personals != 'Manu'] = 9\n",
    "print random_no"
   ]
  },
  {
   "cell_type": "code",
   "execution_count": 33,
   "metadata": {
    "collapsed": false
   },
   "outputs": [
    {
     "data": {
      "text/plain": [
       "array([[ 0.,  0.,  0.,  0.],\n",
       "       [ 1.,  1.,  1.,  1.],\n",
       "       [ 2.,  2.,  2.,  2.],\n",
       "       [ 3.,  3.,  3.,  3.],\n",
       "       [ 4.,  4.,  4.,  4.],\n",
       "       [ 5.,  5.,  5.,  5.],\n",
       "       [ 6.,  6.,  6.,  6.]])"
      ]
     },
     "execution_count": 33,
     "metadata": {},
     "output_type": "execute_result"
    }
   ],
   "source": [
    "from numpy import random\n",
    "algebra = random.randn(7,4) \n",
    "for j in range(7):\n",
    "    algebra[j] = j\n",
    "algebra"
   ]
  },
  {
   "cell_type": "code",
   "execution_count": 35,
   "metadata": {
    "collapsed": false
   },
   "outputs": [
    {
     "data": {
      "text/plain": [
       "array([[ 4.,  4.,  4.,  4.],\n",
       "       [ 5.,  5.,  5.,  5.],\n",
       "       [ 1.,  1.,  1.,  1.]])"
      ]
     },
     "execution_count": 35,
     "metadata": {},
     "output_type": "execute_result"
    }
   ],
   "source": [
    "algebra[[4,5,1]]"
   ]
  },
  {
   "cell_type": "code",
   "execution_count": 36,
   "metadata": {
    "collapsed": false
   },
   "outputs": [
    {
     "name": "stdout",
     "output_type": "stream",
     "text": [
      "[[ 0  1  2  3]\n",
      " [ 4  5  6  7]\n",
      " [ 8  9 10 11]\n",
      " [12 13 14 15]\n",
      " [16 17 18 19]\n",
      " [20 21 22 23]\n",
      " [24 25 26 27]\n",
      " [28 29 30 31]\n",
      " [32 33 34 35]]\n"
     ]
    },
    {
     "data": {
      "text/plain": [
       "array([ 7, 18, 13,  8])"
      ]
     },
     "execution_count": 36,
     "metadata": {},
     "output_type": "execute_result"
    }
   ],
   "source": [
    "fancy = np.arange(36).reshape(9,4)\n",
    "print fancy\n",
    "fancy[[1,4,3,2],[3,2,1,0]] #the position of the output array are[(1,3),(4,2),(3,1),(2,0)]"
   ]
  },
  {
   "cell_type": "code",
   "execution_count": 39,
   "metadata": {
    "collapsed": false
   },
   "outputs": [
    {
     "data": {
      "text/plain": [
       "array([[ 4,  5,  6,  7],\n",
       "       [ 8,  9, 10, 11],\n",
       "       [16, 17, 18, 19],\n",
       "       [32, 33, 34, 35]])"
      ]
     },
     "execution_count": 39,
     "metadata": {},
     "output_type": "execute_result"
    }
   ],
   "source": [
    "fancy[[1, 4, 8, 2]][[0, 3, 1, 2]]"
   ]
  },
  {
   "cell_type": "code",
   "execution_count": 40,
   "metadata": {
    "collapsed": false
   },
   "outputs": [
    {
     "data": {
      "text/plain": [
       "array([[ 4,  7,  5,  6],\n",
       "       [16, 19, 17, 18],\n",
       "       [32, 35, 33, 34],\n",
       "       [ 8, 11,  9, 10]])"
      ]
     },
     "execution_count": 40,
     "metadata": {},
     "output_type": "execute_result"
    }
   ],
   "source": [
    "fancy[np.ix_([1,4,8,2],[0,3,1,2])]"
   ]
  },
  {
   "cell_type": "code",
   "execution_count": 44,
   "metadata": {
    "collapsed": false
   },
   "outputs": [
    {
     "data": {
      "text/plain": [
       "array([[ 80,  92, 104, 116],\n",
       "       [ 92, 107, 122, 137],\n",
       "       [104, 122, 140, 158],\n",
       "       [116, 137, 158, 179]])"
      ]
     },
     "execution_count": 44,
     "metadata": {},
     "output_type": "execute_result"
    }
   ],
   "source": [
    "transpose= np.arange(12).reshape(3,4) \n",
    "transpose.T\n",
    "np.dot(transpose.T, transpose)"
   ]
  },
  {
   "cell_type": "code",
   "execution_count": 45,
   "metadata": {
    "collapsed": false
   },
   "outputs": [
    {
     "name": "stdout",
     "output_type": "stream",
     "text": [
      "[ 0.          1.          1.41421356  1.73205081  2.          2.23606798\n",
      "  2.44948974  2.64575131]\n",
      "[  1.00000000e+00   2.71828183e+00   7.38905610e+00   2.00855369e+01\n",
      "   5.45981500e+01   1.48413159e+02   4.03428793e+02   1.09663316e+03]\n"
     ]
    }
   ],
   "source": [
    "funky =np.arange(8)\n",
    "print np.sqrt(funky)\n",
    "print np.exp(funky) #exponent of the array"
   ]
  },
  {
   "cell_type": "code",
   "execution_count": 47,
   "metadata": {
    "collapsed": false
   },
   "outputs": [
    {
     "name": "stdout",
     "output_type": "stream",
     "text": [
      "[ 0.68457099  0.60358284  1.39687538 -2.09292923  1.4933661  -1.38060413\n",
      " -0.68267713  0.31641464  0.45950486  0.84211897]\n",
      "[-0.91287744  0.89039397  0.18752632  0.27359565 -0.5357902  -0.59478922\n",
      "  0.49719848 -0.54742504  0.34082622  0.43973132]\n",
      "[ 0.68457099  0.89039397  1.39687538  0.27359565  1.4933661  -0.59478922\n",
      "  0.49719848  0.31641464  0.45950486  0.84211897]\n",
      "(array([ 0.68457099,  0.60358284,  0.39687538, -0.09292923,  0.4933661 ,\n",
      "       -0.38060413, -0.68267713,  0.31641464,  0.45950486,  0.84211897]), array([ 0.,  0.,  1., -2.,  1., -1., -0.,  0.,  0.,  0.]))\n"
     ]
    }
   ],
   "source": [
    "x = random.randn(10)\n",
    "y = random.randn(10)\n",
    "print x\n",
    "print y\n",
    "print np.maximum(x,y)\n",
    "print np.modf(x)# function modf returns the fractional and integral parts of a floating point arrays"
   ]
  },
  {
   "cell_type": "code",
   "execution_count": 49,
   "metadata": {
    "collapsed": false
   },
   "outputs": [
    {
     "name": "stdout",
     "output_type": "stream",
     "text": [
      "[-1.09800475 -0.08215504  0.69162893 -1.06094834 -0.30079081  0.78841491\n",
      " -1.46474702  0.35139972  1.37696094  0.23914196]\n",
      "[-1. -0.  1. -1. -0.  1. -1.  0.  1.  0.]\n"
     ]
    }
   ],
   "source": [
    "x = random.randn(10)\n",
    "print x\n",
    "print np.rint(x)"
   ]
  },
  {
   "cell_type": "code",
   "execution_count": 52,
   "metadata": {
    "collapsed": false
   },
   "outputs": [
    {
     "name": "stdout",
     "output_type": "stream",
     "text": [
      "Matrix values of y: [[-5 -5 -5 -5 -5 -5 -5 -5 -5 -5]\n",
      " [-4 -4 -4 -4 -4 -4 -4 -4 -4 -4]\n",
      " [-3 -3 -3 -3 -3 -3 -3 -3 -3 -3]\n",
      " [-2 -2 -2 -2 -2 -2 -2 -2 -2 -2]\n",
      " [-1 -1 -1 -1 -1 -1 -1 -1 -1 -1]\n",
      " [ 0  0  0  0  0  0  0  0  0  0]\n",
      " [ 1  1  1  1  1  1  1  1  1  1]\n",
      " [ 2  2  2  2  2  2  2  2  2  2]\n",
      " [ 3  3  3  3  3  3  3  3  3  3]\n",
      " [ 4  4  4  4  4  4  4  4  4  4]]\n",
      "Matrix values of x: [[-5 -4 -3 -2 -1  0  1  2  3  4]\n",
      " [-5 -4 -3 -2 -1  0  1  2  3  4]\n",
      " [-5 -4 -3 -2 -1  0  1  2  3  4]\n",
      " [-5 -4 -3 -2 -1  0  1  2  3  4]\n",
      " [-5 -4 -3 -2 -1  0  1  2  3  4]\n",
      " [-5 -4 -3 -2 -1  0  1  2  3  4]\n",
      " [-5 -4 -3 -2 -1  0  1  2  3  4]\n",
      " [-5 -4 -3 -2 -1  0  1  2  3  4]\n",
      " [-5 -4 -3 -2 -1  0  1  2  3  4]\n",
      " [-5 -4 -3 -2 -1  0  1  2  3  4]]\n"
     ]
    }
   ],
   "source": [
    "mtrices =np.arange(-5,5,1)\n",
    "x, y = np.meshgrid(mtrices, mtrices)\n",
    "print \"Matrix values of y: {}\".format(y)\n",
    "print \"Matrix values of x: {}\".format(x)"
   ]
  },
  {
   "cell_type": "code",
   "execution_count": 59,
   "metadata": {
    "collapsed": false
   },
   "outputs": [
    {
     "name": "stdout",
     "output_type": "stream",
     "text": [
      "The arrays are: [[ 0  1  2]\n",
      " [ 3  4  5]\n",
      " [ 6  7  8]\n",
      " [ 9 10 11]]\n",
      "The sum of rows are :[ 3 12 21 30]\n",
      "[[ 0  1  2]\n",
      " [ 3  5  7]\n",
      " [ 9 12 15]\n",
      " [18 22 26]]\n",
      "[[  0   1   2]\n",
      " [  0   4  10]\n",
      " [  0  28  80]\n",
      " [  0 280 880]]\n"
     ]
    }
   ],
   "source": [
    "jp =np.arange(12).reshape(4,3)\n",
    "print\"The arrays are: {}\".format(jp)\n",
    "print \"The sum of rows are :{}\".format(np.sum(jp, axis =1)) #axis =0, gives you sum of the columns. axis =1 , gives sum of rows.\n",
    "print jp.cumsum(0)\n",
    "print jp.cunprod(0)"
   ]
  },
  {
   "cell_type": "code",
   "execution_count": 60,
   "metadata": {
    "collapsed": false
   },
   "outputs": [
    {
     "name": "stdout",
     "output_type": "stream",
     "text": [
      "58\n",
      "42\n",
      "True\n",
      "False\n"
     ]
    }
   ],
   "source": [
    "xp =np.random.randn(100)\n",
    "print(xp > 0).sum() # sum of all positive values\n",
    "print (xp < 0).sum()\n",
    "tandf =np.array([True,False,True,False,True,False])\n",
    "print tandf.any()#checks if any of the values are true\n",
    "print tandf.all() #returns false even if a single value is false\n",
    "#These methods also work with non-boolean arrays, where non-zero elements evaluate to True."
   ]
  },
  {
   "cell_type": "code",
   "execution_count": 61,
   "metadata": {
    "collapsed": false
   },
   "outputs": [
    {
     "name": "stdout",
     "output_type": "stream",
     "text": [
      "[ 0.22172194 -0.20580872  0.1387947  -0.82035609  0.21593106 -1.19460804\n",
      " -1.12843379  1.07096924]\n"
     ]
    },
    {
     "data": {
      "text/plain": [
       "array([-1.19460804, -1.12843379, -0.82035609, -0.20580872,  0.1387947 ,\n",
       "        0.21593106,  0.22172194,  1.07096924])"
      ]
     },
     "execution_count": 61,
     "metadata": {},
     "output_type": "execute_result"
    }
   ],
   "source": [
    "lp = np.random.randn(8)\n",
    "print lp\n",
    "lp.sort()\n",
    "lp"
   ]
  },
  {
   "cell_type": "code",
   "execution_count": 71,
   "metadata": {
    "collapsed": false
   },
   "outputs": [
    {
     "data": {
      "text/plain": [
       "array([[-0.45758293,  0.03882865,  0.08150508, -0.29173859],\n",
       "       [ 0.74273552,  1.43625665,  0.25025752, -0.2093197 ],\n",
       "       [-0.45186344,  0.58137578, -0.28536481,  1.4518138 ],\n",
       "       [ 0.35058055, -0.76475455,  0.19679268,  0.15495939]])"
      ]
     },
     "execution_count": 71,
     "metadata": {},
     "output_type": "execute_result"
    }
   ],
   "source": [
    "tp = np.random.randn(4,4)\n",
    "tp"
   ]
  },
  {
   "cell_type": "code",
   "execution_count": 74,
   "metadata": {
    "collapsed": false
   },
   "outputs": [
    {
     "name": "stdout",
     "output_type": "stream",
     "text": [
      "[[-0.45758293 -0.76475455 -0.28536481 -0.29173859]\n",
      " [-0.45186344  0.03882865  0.08150508 -0.2093197 ]\n",
      " [ 0.35058055  0.58137578  0.19679268  0.15495939]\n",
      " [ 0.74273552  1.43625665  0.25025752  1.4518138 ]]\n",
      "[[-0.76475455 -0.45758293 -0.29173859 -0.28536481]\n",
      " [-0.45186344 -0.2093197   0.03882865  0.08150508]\n",
      " [ 0.15495939  0.19679268  0.35058055  0.58137578]\n",
      " [ 0.25025752  0.74273552  1.43625665  1.4518138 ]]\n"
     ]
    }
   ],
   "source": [
    "tp.sort(0)\n",
    "print tp\n",
    "tp.sort(1)\n",
    "print tp"
   ]
  },
  {
   "cell_type": "code",
   "execution_count": 75,
   "metadata": {
    "collapsed": false
   },
   "outputs": [
    {
     "data": {
      "text/plain": [
       "array(['Jeevan', 'Manu', 'Prakash'], \n",
       "      dtype='|S7')"
      ]
     },
     "execution_count": 75,
     "metadata": {},
     "output_type": "execute_result"
    }
   ],
   "source": [
    "personals = np.array(['Manu', 'Jeevan', 'Prakash', 'Manu', 'Prakash', 'Jeevan', 'Prakash'])\n",
    "np.unique(personals)# returns the unique elements in the array"
   ]
  },
  {
   "cell_type": "code",
   "execution_count": 76,
   "metadata": {
    "collapsed": false
   },
   "outputs": [
    {
     "data": {
      "text/plain": [
       "{'Jeevan', 'Manu', 'Prakash'}"
      ]
     },
     "execution_count": 76,
     "metadata": {},
     "output_type": "execute_result"
    }
   ],
   "source": [
    "set(personals) # set is an alternative to unique function"
   ]
  },
  {
   "cell_type": "code",
   "execution_count": 77,
   "metadata": {
    "collapsed": false
   },
   "outputs": [
    {
     "data": {
      "text/plain": [
       "array([ True, False, False,  True, False, False, False], dtype=bool)"
      ]
     },
     "execution_count": 77,
     "metadata": {},
     "output_type": "execute_result"
    }
   ],
   "source": [
    "np.in1d(personals, ['Manu']) #in1d function checks for the value 'Manu' and returns True, other wise returns False"
   ]
  },
  {
   "cell_type": "code",
   "execution_count": 82,
   "metadata": {
    "collapsed": false
   },
   "outputs": [
    {
     "name": "stdout",
     "output_type": "stream",
     "text": [
      "[ 1.  1.  1.]\n"
     ]
    }
   ],
   "source": [
    "cp = np.array([[1,2,3],[4,5,6]])\n",
    "dp = np.array([[7,8],[9,10],[11,12]])\n",
    "cp.dot(dp) # this is equivalent to np.dot(x,y)\n",
    "print np.ones(3)"
   ]
  },
  {
   "cell_type": "code",
   "execution_count": 85,
   "metadata": {
    "collapsed": false
   },
   "outputs": [
    {
     "name": "stdout",
     "output_type": "stream",
     "text": [
      "[[17 22 27]\n",
      " [22 29 36]\n",
      " [27 36 45]]\n",
      "[[ -1.74995136e-01   1.08271241e+00   1.10377879e+00  -6.73516851e-01\n",
      "    7.92582356e-01]\n",
      " [  7.78563059e-01  -6.29026388e-01  -1.98658728e+00   1.13555710e+00\n",
      "   -7.72170194e-01]\n",
      " [  2.35529187e-01  -1.09400406e-01  -5.32122149e-01   7.72733178e-01\n",
      "   -4.11474845e-01]\n",
      " [  4.47494332e-02   7.74705478e-01   8.67692485e-01  -4.70420860e-01\n",
      "    7.81666510e-02]\n",
      " [  1.69385473e-03  -8.40947680e-02   3.85461605e-01  -8.16997322e-02\n",
      "    2.28773940e-01]]\n",
      "[[ -1.74995136e-01   1.08271241e+00   1.10377879e+00  -6.73516851e-01\n",
      "    7.92582356e-01]\n",
      " [  7.78563059e-01  -6.29026388e-01  -1.98658728e+00   1.13555710e+00\n",
      "   -7.72170194e-01]\n",
      " [  2.35529187e-01  -1.09400406e-01  -5.32122149e-01   7.72733178e-01\n",
      "   -4.11474845e-01]\n",
      " [  4.47494332e-02   7.74705478e-01   8.67692485e-01  -4.70420860e-01\n",
      "    7.81666510e-02]\n",
      " [  1.69385473e-03  -8.40947680e-02   3.85461605e-01  -8.16997322e-02\n",
      "    2.28773940e-01]]\n"
     ]
    }
   ],
   "source": [
    "from numpy.linalg import inv, qr\n",
    "cp = np.array([[1,2,3],[4,5,6]])\n",
    "new_mat = cp.T.dot(cp) # multiply cp inverse and cp, this is element wise multiplication\n",
    "print new_mat\n",
    "\n",
    "sp = np.random.randn(5,5)\n",
    "print inv(sp)\n",
    "rt = inv(sp)\n",
    "print rt"
   ]
  },
  {
   "cell_type": "code",
   "execution_count": 88,
   "metadata": {
    "collapsed": false
   },
   "outputs": [
    {
     "name": "stdout",
     "output_type": "stream",
     "text": [
      "[[-1.42498553 -0.57626931 -0.86854344 -0.86983557 -0.07450531]\n",
      " [-1.55769912 -0.50279078 -1.0570108  -1.55320343 -0.09275452]\n",
      " [-0.00385811  0.29098167 -0.22843454  0.14364882 -0.05581856]\n",
      " [-1.09288693 -0.56330837 -0.60578968 -0.94066232 -0.46542534]\n",
      " [-0.89236915 -0.55016866 -1.00739761 -0.52935065 -0.01552893]]\n",
      "[[-1.42498553 -0.57626931 -0.86854344 -0.86983557 -0.07450531]\n",
      " [-1.55769912 -0.50279078 -1.0570108  -1.55320343 -0.09275452]\n",
      " [-0.00385811  0.29098167 -0.22843454  0.14364882 -0.05581856]\n",
      " [-1.09288693 -0.56330837 -0.60578968 -0.94066232 -0.46542534]\n",
      " [-0.89236915 -0.55016866 -1.00739761 -0.52935065 -0.01552893]]\n",
      "[[  1.00000000e+00  -2.22044605e-16  -2.22044605e-16  -3.33066907e-16\n",
      "   -3.12250226e-17]\n",
      " [  0.00000000e+00   1.00000000e+00  -2.22044605e-16   1.11022302e-16\n",
      "    3.46944695e-17]\n",
      " [ -2.22044605e-16   2.22044605e-16   1.00000000e+00   0.00000000e+00\n",
      "   -1.38777878e-17]\n",
      " [ -7.21644966e-16   2.74086309e-16   1.83880688e-16   1.00000000e+00\n",
      "    2.38524478e-18]\n",
      " [ -4.16333634e-17   1.38777878e-17  -4.57966998e-16   0.00000000e+00\n",
      "    1.00000000e+00]]\n"
     ]
    }
   ],
   "source": [
    "sp = np.random.randn(5,5)\n",
    "print inv(sp)\n",
    "rt = inv(sp)\n",
    "print rt\n",
    "print sp.dot(rt)"
   ]
  },
  {
   "cell_type": "code",
   "execution_count": 89,
   "metadata": {
    "collapsed": false
   },
   "outputs": [
    {
     "name": "stdout",
     "output_type": "stream",
     "text": [
      "[[-0.76020221  0.05255815 -0.1350297  -0.26173993 -0.57670568]\n",
      " [ 0.10068992 -0.48325845  0.79351478 -0.0154426  -0.35555396]\n",
      " [ 0.37178788 -0.08656469 -0.38122086  0.53394026 -0.65104438]\n",
      " [ 0.46214707  0.59695213  0.1410846  -0.54141567 -0.34210004]\n",
      " [ 0.2452509  -0.63233979 -0.43228122 -0.59416379 -0.01003578]]\n"
     ]
    },
    {
     "data": {
      "text/plain": [
       "array([[ 3.54516586, -1.11294375,  0.34528631, -0.85323602, -1.82303253],\n",
       "       [ 0.        , -1.62356692,  0.157844  ,  1.63760333,  0.76890417],\n",
       "       [ 0.        ,  0.        ,  2.75558625,  0.61894996, -0.61862735],\n",
       "       [ 0.        ,  0.        ,  0.        ,  1.32078797, -1.32426359],\n",
       "       [ 0.        ,  0.        ,  0.        ,  0.        ,  0.64626357]])"
      ]
     },
     "execution_count": 89,
     "metadata": {},
     "output_type": "execute_result"
    }
   ],
   "source": [
    "q,r = qr(sp)\n",
    "print q\n",
    "r"
   ]
  }
 ],
 "metadata": {
  "kernelspec": {
   "display_name": "Python 2",
   "language": "python",
   "name": "python2"
  },
  "language_info": {
   "codemirror_mode": {
    "name": "ipython",
    "version": 2
   },
   "file_extension": ".py",
   "mimetype": "text/x-python",
   "name": "python",
   "nbconvert_exporter": "python",
   "pygments_lexer": "ipython2",
   "version": "2.7.13"
  }
 },
 "nbformat": 4,
 "nbformat_minor": 2
}
